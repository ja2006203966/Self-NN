{
 "cells": [
  {
   "cell_type": "code",
   "execution_count": 222,
   "id": "0b1ddcdf-55bd-4470-a8b1-e865bbe3e468",
   "metadata": {},
   "outputs": [],
   "source": [
    "import time\n",
    "import numpy as np\n",
    "import pandas as pd\n",
    "import datetime\n",
    "from tqdm import tqdm"
   ]
  },
  {
   "cell_type": "code",
   "execution_count": 132,
   "id": "3439da10-33f4-47cc-9260-aa68dce7273b",
   "metadata": {},
   "outputs": [],
   "source": [
    "def normal_dist(x, mean = 0, std = 1):\n",
    "    return np.exp(-1/2*((x-mean)/std)**2)/(std*np.sqrt(2*np.pi))\n",
    "class Poly:\n",
    "    def __init__(self, shape, order = [1, 2], activate = None, mean = 0, std = 1):\n",
    "        # input: (batch, input_size)\n",
    "        # output: (batch, input_size)\n",
    "        # shape: (intput_size, node_size)\n",
    "        # kernel = (node_size,)\n",
    "        self.weights = ['std', 'mean', 'order', 'shape', 'name']\n",
    "        self.name = 'Poly'\n",
    "        def normal_dist(x, mean = 0, std = 1):\n",
    "            return np.exp(-1/2*((x-mean)/std)**2)/(std*np.sqrt(2*np.pi))\n",
    "        self.shape = shape\n",
    "        self.input_size = shape[0]\n",
    "        self.node_size = shape[-1]\n",
    "        self.kernel_shape = (shape[-1],)\n",
    "        # self.w = np.random.normal(0, std, (shape[-1],) )\n",
    "        self.mean = np.random.normal(mean, std, (shape[-1],) )\n",
    "        self.std = np.ones((shape[-1],))*std\n",
    "        self.order = np.random.uniform(order[0], order[1], (shape[-1],) )\n",
    "        self.norm = normal_dist\n",
    "        if activate == None:\n",
    "            def fn(x):\n",
    "                return x\n",
    "            self.activate = fn\n",
    "        else:\n",
    "            self.activate = activate\n",
    "            \n",
    "    def random_decent(self, x, lr = 1e-4):\n",
    "        # x: (batch_size, input_size)\n",
    "        self.batch_size = x.shape[0]\n",
    "        self.Lo = np.random.uniform(-1, 1, self.kernel_shape)\n",
    "        self.Lm = np.random.uniform(-1, 1, 1)\n",
    "        self.Ls = np.random.uniform(-1, 1, 1)\n",
    "        m = self.mean - lr*self.Lm\n",
    "        s = self.std - lr*self.Ls\n",
    "        o = np.tile(np.expand_dims(self.order-lr*self.Lo, axis = [0,1]), [self.batch_size, self.input_size, 1])\n",
    "        x = np.expand_dims(x, axis = -1)\n",
    "        x = np.tile(x, [1,1,self.node_size])\n",
    "        dist = self.norm(o, mean = m, std = s)\n",
    "        norm = np.expand_dims(np.sum(dist, axis = -1), axis = -1)\n",
    "        return np.mean(dist/(norm)*(x**o), axis = -1)\n",
    "    \n",
    "    def update_weights(self, lr = 1e-4):\n",
    "        self.mean = self.mean - lr*self.Lm\n",
    "        self.std = self.std - lr*self.Ls\n",
    "        # self.w = self.w - lr*self.Lw\n",
    "        self.order = self.order - lr*self.Lo\n",
    "    def call(self, x):\n",
    "        self.batch_size = x.shape[0]\n",
    "        o = np.tile(np.expand_dims(self.order, axis = [0,1]), [self.batch_size, self.input_size, 1])\n",
    "        x = np.expand_dims(x, axis = -1)\n",
    "        x = np.tile(x, [1,1,self.node_size])\n",
    "        dist = self.norm(o, mean = self.mean, std = self.std)\n",
    "        norm = np.expand_dims(np.sum(dist, axis = -1), axis = -1)\n",
    "        return np.mean(dist/(norm)*(x**o), axis = -1) "
   ]
  },
  {
   "cell_type": "code",
   "execution_count": null,
   "id": "be4d68ff-0cb3-49f9-9c58-64fe039e771e",
   "metadata": {},
   "outputs": [],
   "source": []
  },
  {
   "cell_type": "code",
   "execution_count": 7,
   "id": "81b36513-b0fe-45f3-8eb0-65e80c17446e",
   "metadata": {},
   "outputs": [
    {
     "data": {
      "text/plain": [
       "array([[[1, 2]]])"
      ]
     },
     "execution_count": 7,
     "metadata": {},
     "output_type": "execute_result"
    }
   ],
   "source": [
    "np.expand_dims(np.array([1,2]), axis = [0,1])"
   ]
  },
  {
   "cell_type": "code",
   "execution_count": 133,
   "id": "5e92b02c-b86a-4930-acde-76bfb5fd186e",
   "metadata": {},
   "outputs": [],
   "source": [
    "def relu(x):\n",
    "    return (x>=0)*x\n",
    "class Linear:\n",
    "    def __init__(self, shape, activate = None):\n",
    "        # shape:(output_size, input_size)\n",
    "        self.weights = ['w', 'b', 'shape', 'name']\n",
    "        self.shape = shape\n",
    "        self.w = np.random.normal(0, 1, shape)\n",
    "        self.b = np.zeros((shape[0]))\n",
    "        self.name = 'Linear'\n",
    "        if activate == None:\n",
    "            def fn(x):\n",
    "                return x\n",
    "            self.activate = fn\n",
    "        else:\n",
    "            self.activate = activate\n",
    "    def random_decent(self, x, lr = 1e-4):\n",
    "        # x: (batch_size, input_size)\n",
    "        self.batch_size = x.shape[0]\n",
    "        self.Lw = np.random.uniform(-1, 1, self.shape)\n",
    "        self.bLw = np.tile(np.expand_dims(self.Lw, axis = 0), [self.batch_size, 1, 1])\n",
    "        self.Lb = np.random.uniform(-1, 1, self.b.shape)\n",
    "        self.bLb = np.tile(np.expand_dims(self.Lb, axis = 0), [self.batch_size, 1])\n",
    "        w =  np.tile(np.expand_dims(self.w, axis = 0), [self.batch_size, 1, 1])\n",
    "        b = np.tile(np.expand_dims(self.b, axis = 0), [self.batch_size, 1])\n",
    "        x = np.expand_dims(x, axis = -1)\n",
    "        return np.matmul(w - lr*self.bLw, x)[:, :, 0] + (b - lr*self.bLb)\n",
    "    def update_weights(self, lr = 1e-4):\n",
    "        self.w = self.w - lr*self.Lw\n",
    "        self.b = self.b - lr*self.Lb\n",
    "    def call(self, x):\n",
    "        self.batch_size = x.shape[0]\n",
    "        w =  np.tile(np.expand_dims(self.w, axis = 0), [self.batch_size, 1, 1])\n",
    "        b = np.tile(np.expand_dims(self.b, axis = 0), [self.batch_size, 1])\n",
    "        x = np.expand_dims(x, axis = -1)\n",
    "        return np.matmul(w, x)[:, :, 0] + b\n",
    "        \n",
    "class Model:\n",
    "    def __init__(self, inputs, outputs):\n",
    "        self.HiddenLayers = []\n",
    "        self.Inputs = inputs\n",
    "        self.Outputs = outputs\n",
    "        self.index = np.arange(0, inputs.shape[0], 1)\n",
    "        self.loss_fn = self.MSE\n",
    "        self.test_layer = -1\n",
    "        self.history = {'epoch':[], 'Loss':[]}\n",
    "    def add_layer(self, layer):\n",
    "        self.HiddenLayers.append(layer)\n",
    "    def predict(self, x):\n",
    "        for i, l in enumerate(self.HiddenLayers):\n",
    "            if i == self.test_layer:\n",
    "                x = l.random_decent(x, lr = self.lr)\n",
    "            else:\n",
    "                x = l.call(x)\n",
    "        return x\n",
    "    def MSE(self, y_tar, y_pre):\n",
    "        # y pre/tar : (batch_size, output_size)\n",
    "        return np.mean((y_pre-y_tar)**2)\n",
    "    def loss(self, x, y):\n",
    "        y_pre = self.predict(x)\n",
    "        return self.loss_fn(y, y_pre)\n",
    "    def shuffle(self,):\n",
    "        # index = np.arange(0, self.Inputs.shape[0], 1)\n",
    "        np.random.shuffle(self.index)\n",
    "        x = self.Inputs[self.index]\n",
    "        N = int(len(x)/self.batch_size)\n",
    "        x = x[:N*self.batch_size]\n",
    "        x = np.reshape(x, (N, self.batch_size,)+x[0].shape)\n",
    "        y = self.Outputs[self.index]\n",
    "        y = y[:N*self.batch_size]\n",
    "        y = np.reshape(y, (N, self.batch_size,)+y[0].shape)\n",
    "        self.N = N\n",
    "        return x, y\n",
    "    def training(self, batch_size = 32, lr = 1e-4, random_times = 100):\n",
    "        self.batch_size = batch_size\n",
    "        self.lr = lr\n",
    "        x, y = self.shuffle()\n",
    "        for e in range(self.N):\n",
    "        #N: number of epoches\n",
    "            self.test_layer = -1\n",
    "            L = self.loss(x[e], y[e])\n",
    "            for i, l in enumerate(self.HiddenLayers):\n",
    "                for rds in range(random_times):\n",
    "                    self.test_layer = i\n",
    "                    Ltest = self.loss(x[e], y[e])\n",
    "                    if Ltest < L:\n",
    "                        l.update_weights(lr = lr)\n",
    "                        L = Ltest\n",
    "            self.test_layer = -1\n",
    "            self.history['epoch'].append(e)\n",
    "            self.history['Loss'].append(L)\n",
    "            # print(\"epoch{}, Loss{}\".format(e, L))\n",
    "    def save_weights(self, path = './model/'):\n",
    "        import os\n",
    "        import pickle\n",
    "        if not os.path.isdir(path):\n",
    "            os.mkdir(path)\n",
    "        app = dict()\n",
    "        app['num_of_layer'] = len(self.HiddenLayers)\n",
    "        for i, l in enumerate(self.HiddenLayers):\n",
    "            for wn in l.weights:\n",
    "                key = 'Layer_{}_{}'.format(i, wn)\n",
    "                exec(\"app[key] = l.{}\".format(wn))\n",
    "        with open(path+'Weights.plk', 'wb') as f:\n",
    "            pickle.dump(app, f)\n",
    "    def load_weights(self, path = './model/'):\n",
    "        import pickle\n",
    "        with open(path+'Weights.plk', 'rb') as f:\n",
    "            app = pickle.load(f)\n",
    "            for i, l in enumerate(self.HiddenLayers):\n",
    "                for wn in l.weights:\n",
    "                    key = 'Layer_{}_{}'.format(i, wn)\n",
    "                    exec(\"l.{} = app[key]\".format(wn))\n"
   ]
  },
  {
   "cell_type": "code",
   "execution_count": 196,
   "id": "62f7521a-787b-4957-aa51-b011bef8e917",
   "metadata": {},
   "outputs": [],
   "source": [
    "def stdz(x):\n",
    "    x = (x-np.mean(x))/np.std(x)\n",
    "    x = x-np.min(x)+1e-3\n",
    "    return x"
   ]
  },
  {
   "cell_type": "code",
   "execution_count": 150,
   "id": "4b700031-5258-4935-bd4b-76ce907782c8",
   "metadata": {},
   "outputs": [],
   "source": [
    "df = pd.read_csv('./Walmart.csv')"
   ]
  },
  {
   "cell_type": "code",
   "execution_count": 154,
   "id": "50f958f3-0e94-4598-90de-d7e1250f44aa",
   "metadata": {},
   "outputs": [
    {
     "data": {
      "text/plain": [
       "Index(['Store', 'Date', 'Weekly_Sales', 'Holiday_Flag', 'Temperature',\n",
       "       'Fuel_Price', 'CPI', 'Unemployment'],\n",
       "      dtype='object')"
      ]
     },
     "execution_count": 154,
     "metadata": {},
     "output_type": "execute_result"
    }
   ],
   "source": [
    "df.keys()"
   ]
  },
  {
   "cell_type": "code",
   "execution_count": 239,
   "id": "3db4631f-3ec7-485f-8d47-9be47b2eb095",
   "metadata": {},
   "outputs": [],
   "source": [
    "# df['Date'] = df['Date'].map(lambda x: datetime.datetime.strptime(x, \"%d-%m-%Y\"))\n",
    "df['Month'] = df['Date'].map(lambda x: x.month)\n",
    "df['Day'] = df['Date'].map(lambda x: x.day)\n",
    "df['Year'] = df['Date'].map(lambda x: x.year)\n",
    "df['WeekOfYear'] = df['Date'].map(lambda x: x.isocalendar()[1])"
   ]
  },
  {
   "cell_type": "code",
   "execution_count": 241,
   "id": "07ed1585-7dcd-4c59-849f-48228eff433e",
   "metadata": {},
   "outputs": [],
   "source": [
    "keys = ['Store', 'Holiday_Flag', 'Temperature','Fuel_Price', 'CPI', 'Unemployment', 'Month', 'Day', 'Year', 'WeekOfYear']\n",
    "STDK = ['Temperature','Fuel_Price', 'CPI', 'Unemployment', 'Month', 'Day', 'Year', 'WeekOfYear']\n",
    "x = []\n",
    "for k in keys:\n",
    "    x.append(list(stdz(np.array(df[k]))))"
   ]
  },
  {
   "cell_type": "code",
   "execution_count": 242,
   "id": "ff3ba9db-8c0e-4209-b265-afa4ba47022c",
   "metadata": {},
   "outputs": [],
   "source": [
    "x = np.array(x)\n",
    "# y = np.array(df['Weekly_Sales'].map(float) )\n",
    "y = np.array(stdz(np.array(df['Weekly_Sales'].map(float))))\n",
    "\n",
    "x = x.T\n",
    "# x = np.expand_dims(x, axis = -1)\n",
    "y = np.expand_dims(y, axis = -1)"
   ]
  },
  {
   "cell_type": "code",
   "execution_count": 245,
   "id": "3ba9e673-8922-46b3-ad7b-0b3bc6899a51",
   "metadata": {},
   "outputs": [
    {
     "data": {
      "text/plain": [
       "(6435, 10)"
      ]
     },
     "execution_count": 245,
     "metadata": {},
     "output_type": "execute_result"
    }
   ],
   "source": [
    "x.shape"
   ]
  },
  {
   "cell_type": "code",
   "execution_count": 243,
   "id": "c8b4a047-04d2-442e-889c-89d74b6a8618",
   "metadata": {},
   "outputs": [
    {
     "data": {
      "text/plain": [
       "(6435, 1)"
      ]
     },
     "execution_count": 243,
     "metadata": {},
     "output_type": "execute_result"
    }
   ],
   "source": [
    "y.shape"
   ]
  },
  {
   "cell_type": "code",
   "execution_count": 252,
   "id": "f57e74fc-7b6f-400d-a2df-32dad500bb55",
   "metadata": {
    "tags": []
   },
   "outputs": [],
   "source": [
    "# N = 2000\n",
    "# x = np.abs(np.random.uniform(10, 3, (N, 10)))\n",
    "# w = np.abs(np.random.uniform(10, 1, (2,10)))\n",
    "# w = np.expand_dims(w, axis = 0)\n",
    "# w = np.tile(w, [N, 1, 1])\n",
    "# y = np.random.uniform(10, 1, (100, 2))\n",
    "# y = np.matmul(w, np.expand_dims(x**2, axis = -1))[:,:,0]\n",
    "\n",
    "\n",
    "\n",
    "model = Model(x, y)\n",
    "model.add_layer(Poly((10, 10)))\n",
    "model.add_layer(Linear((16, 10), activate = relu))\n",
    "model.add_layer(Linear((32, 16), activate = relu))\n",
    "model.add_layer(Linear((1, 32)))\n",
    "n_print = 1\n",
    "# for i in range(100):\n",
    "#     time_start = time.time()\n",
    "#     model.training(batch_size = 32, lr = 1e-4, random_times = 100)\n",
    "#     if i%n_print == 0:\n",
    "#         print(\"Step:{}, Loss:{}, Time:{}\".format(i, model.history['Loss'][-1], time.time()-time_start ))\n",
    "#         time_start = time.time()\n",
    "        \n"
   ]
  },
  {
   "cell_type": "code",
   "execution_count": 253,
   "id": "0b38b91d-9ae3-4735-b011-d59f8d45a932",
   "metadata": {},
   "outputs": [
    {
     "name": "stdout",
     "output_type": "stream",
     "text": [
      "Step:0, Loss:0.844687577645939, Time:19.25924825668335\n",
      "Step:1, Loss:0.6563637663277438, Time:17.015128135681152\n",
      "Step:2, Loss:0.7133778117397729, Time:16.62636423110962\n",
      "Step:3, Loss:0.8555980093100074, Time:16.767651319503784\n",
      "Step:4, Loss:0.8609591091211897, Time:16.619155645370483\n",
      "Step:5, Loss:0.8956699629030328, Time:16.70030665397644\n",
      "Step:6, Loss:0.6521858433464096, Time:16.58268642425537\n",
      "Step:7, Loss:0.9041562301798627, Time:16.607581853866577\n",
      "Step:8, Loss:0.6854560075310325, Time:16.76554226875305\n",
      "Step:9, Loss:0.7998619301199509, Time:16.638429164886475\n",
      "Step:10, Loss:0.7269175803022808, Time:16.656675577163696\n",
      "Step:11, Loss:0.9900316536045216, Time:16.678183794021606\n",
      "Step:12, Loss:0.6410623810695985, Time:16.60377073287964\n",
      "Step:13, Loss:0.754201547391163, Time:16.8884174823761\n",
      "Step:14, Loss:0.8469211876810833, Time:16.668832063674927\n",
      "Step:15, Loss:0.6925108578996917, Time:16.700982093811035\n",
      "Step:16, Loss:0.7761438774126436, Time:16.60486340522766\n",
      "Step:17, Loss:0.7095372215015167, Time:16.821281909942627\n",
      "Step:18, Loss:0.8296211954806851, Time:16.6773784160614\n",
      "Step:19, Loss:0.704230650273454, Time:16.81084680557251\n",
      "Step:20, Loss:0.76878087653453, Time:16.766672134399414\n",
      "Step:21, Loss:0.8293069058776633, Time:16.536727905273438\n",
      "Step:22, Loss:0.8270621627901577, Time:16.61421537399292\n",
      "Step:23, Loss:0.9005056043660599, Time:16.48455548286438\n",
      "Step:24, Loss:0.8160237114234431, Time:16.69372844696045\n",
      "Step:25, Loss:0.8906367616108006, Time:16.639919757843018\n",
      "Step:26, Loss:0.6527673835367152, Time:16.655125856399536\n",
      "Step:27, Loss:0.6398138017996566, Time:16.766860485076904\n",
      "Step:28, Loss:0.8133612587174401, Time:16.595364332199097\n",
      "Step:29, Loss:0.799226380270596, Time:16.5935959815979\n",
      "Step:30, Loss:0.6588826117232621, Time:16.52373719215393\n",
      "Step:31, Loss:1.0462778463380191, Time:16.851362228393555\n",
      "Step:32, Loss:0.863862333415859, Time:16.60676121711731\n",
      "Step:33, Loss:0.724270008826162, Time:16.59377884864807\n",
      "Step:34, Loss:0.9629470507460156, Time:16.57916259765625\n",
      "Step:35, Loss:0.9919815980368313, Time:16.59438729286194\n",
      "Step:36, Loss:1.1272748488630153, Time:16.58048725128174\n",
      "Step:37, Loss:0.71426432461619, Time:16.4882652759552\n",
      "Step:38, Loss:0.6952729469181393, Time:16.85713815689087\n",
      "Step:39, Loss:0.6566884141748436, Time:16.55471968650818\n",
      "Step:40, Loss:0.9309845171371062, Time:16.514930725097656\n",
      "Step:41, Loss:0.7688908502599281, Time:16.63584613800049\n",
      "Step:42, Loss:0.6980037322170112, Time:16.523788452148438\n",
      "Step:43, Loss:0.8613589132596087, Time:16.599480867385864\n",
      "Step:44, Loss:0.8223738073721388, Time:16.581018924713135\n",
      "Step:45, Loss:0.7778497962880182, Time:16.699156522750854\n",
      "Step:46, Loss:0.6598256055140412, Time:16.55620050430298\n",
      "Step:47, Loss:0.7008222869339507, Time:16.753806829452515\n",
      "Step:48, Loss:1.1124743541489284, Time:16.56165885925293\n",
      "Step:49, Loss:0.9450406099005167, Time:16.57056498527527\n",
      "Step:50, Loss:1.0115835593329667, Time:16.67083978652954\n",
      "Step:51, Loss:0.7736531213767681, Time:16.6370952129364\n",
      "Step:52, Loss:0.6659802130101855, Time:16.71460795402527\n",
      "Step:53, Loss:0.8963766695361837, Time:16.72909379005432\n",
      "Step:54, Loss:0.7492391256131592, Time:16.665562629699707\n",
      "Step:55, Loss:0.8449118923051495, Time:16.697537660598755\n",
      "Step:56, Loss:0.8310876122201407, Time:16.949713945388794\n",
      "Step:57, Loss:0.7771765053591829, Time:16.62535834312439\n",
      "Step:58, Loss:0.8589635260634907, Time:16.64810609817505\n",
      "Step:59, Loss:0.9445585042965129, Time:16.67474603652954\n",
      "Step:60, Loss:0.8124584201110808, Time:17.01921010017395\n",
      "Step:61, Loss:0.7327318372814754, Time:16.50495433807373\n",
      "Step:62, Loss:0.9834978613329527, Time:16.61615538597107\n",
      "Step:63, Loss:0.7881403067825065, Time:16.743167400360107\n",
      "Step:64, Loss:0.7062923849040517, Time:16.705228567123413\n",
      "Step:65, Loss:0.8386243104665045, Time:16.703393936157227\n",
      "Step:66, Loss:0.7552572222819357, Time:16.50268578529358\n",
      "Step:67, Loss:0.8519264193350111, Time:16.680803775787354\n",
      "Step:68, Loss:0.8883841493214498, Time:16.574867248535156\n",
      "Step:69, Loss:0.9830120132511989, Time:16.616061449050903\n",
      "Step:70, Loss:0.7597919437176114, Time:16.5486478805542\n",
      "Step:71, Loss:0.881413745678606, Time:16.836761713027954\n",
      "Step:72, Loss:0.8349974581983766, Time:16.686632871627808\n",
      "Step:73, Loss:0.8423060749327586, Time:16.533872842788696\n",
      "Step:74, Loss:0.903811893844289, Time:16.7109637260437\n",
      "Step:75, Loss:0.7636487968024437, Time:16.64400362968445\n",
      "Step:76, Loss:0.8325798034802787, Time:16.61790657043457\n",
      "Step:77, Loss:0.7923985146878819, Time:16.803767442703247\n",
      "Step:78, Loss:0.8657578562190216, Time:16.65040874481201\n",
      "Step:79, Loss:0.7636709048435887, Time:16.636770486831665\n",
      "Step:80, Loss:0.8553847915134412, Time:16.622072219848633\n",
      "Step:81, Loss:0.7571319351190947, Time:16.86133885383606\n",
      "Step:82, Loss:0.867896124945508, Time:16.60551881790161\n",
      "Step:83, Loss:0.6383012874090679, Time:16.72395634651184\n",
      "Step:84, Loss:0.8708159164506953, Time:16.73055076599121\n",
      "Step:85, Loss:0.6696442921938099, Time:16.77528476715088\n",
      "Step:86, Loss:0.8224487935211756, Time:16.56251335144043\n",
      "Step:87, Loss:0.687438596360114, Time:16.55752921104431\n",
      "Step:88, Loss:0.7697393425496004, Time:16.611480236053467\n",
      "Step:89, Loss:0.7628251996260694, Time:16.573373079299927\n",
      "Step:90, Loss:0.8376830368561666, Time:16.83929181098938\n",
      "Step:91, Loss:0.8007002639365395, Time:16.6479332447052\n",
      "Step:92, Loss:0.8605889734693913, Time:16.620752334594727\n",
      "Step:93, Loss:0.9001729802655853, Time:16.8892023563385\n",
      "Step:94, Loss:0.6216530573251492, Time:16.483039617538452\n",
      "Step:95, Loss:0.7309487921792881, Time:16.693751335144043\n",
      "Step:96, Loss:0.761954457139645, Time:16.877129077911377\n",
      "Step:97, Loss:0.7403274024147397, Time:16.63292384147644\n",
      "Step:98, Loss:0.863349275013513, Time:16.651728868484497\n",
      "Step:99, Loss:0.7216582034018786, Time:16.578693389892578\n",
      "Step:100, Loss:0.8586951108368508, Time:16.567399978637695\n",
      "Step:101, Loss:0.8462679160383615, Time:16.507291316986084\n",
      "Step:102, Loss:1.11818874759091, Time:16.612255811691284\n",
      "Step:103, Loss:0.7829323085856352, Time:16.55278253555298\n",
      "Step:104, Loss:0.7563069796102758, Time:16.597214460372925\n",
      "Step:105, Loss:1.1580692592008417, Time:16.64321732521057\n",
      "Step:106, Loss:0.8964882149436159, Time:16.43575167655945\n",
      "Step:107, Loss:0.8803940558585073, Time:16.719863653182983\n",
      "Step:108, Loss:0.8673169668817775, Time:16.495484828948975\n",
      "Step:109, Loss:0.7816385908044216, Time:16.602561712265015\n",
      "Step:110, Loss:0.7671383502603574, Time:16.6283118724823\n",
      "Step:111, Loss:0.7688191940108036, Time:16.53636884689331\n",
      "Step:112, Loss:0.7613724827613424, Time:16.77030324935913\n",
      "Step:113, Loss:0.8427380123581204, Time:16.45468258857727\n",
      "Step:114, Loss:0.6190454436096454, Time:16.636523723602295\n",
      "Step:115, Loss:0.7969664746607473, Time:16.45778465270996\n",
      "Step:116, Loss:0.6953171817109945, Time:16.65326690673828\n",
      "Step:117, Loss:0.5835325356238036, Time:16.65764331817627\n",
      "Step:118, Loss:0.819390815083606, Time:16.549374103546143\n",
      "Step:119, Loss:0.6833720704957904, Time:16.578879356384277\n",
      "Step:120, Loss:0.7317656638303736, Time:16.4497709274292\n",
      "Step:121, Loss:0.7247154437481153, Time:16.67189908027649\n",
      "Step:122, Loss:0.7232673333085329, Time:16.48782706260681\n",
      "Step:123, Loss:0.904712009683424, Time:16.65827488899231\n",
      "Step:124, Loss:0.6502938342864801, Time:16.501899003982544\n",
      "Step:125, Loss:0.9972412560525253, Time:16.532902479171753\n",
      "Step:126, Loss:0.7993905259966658, Time:16.610142946243286\n",
      "Step:127, Loss:0.7683500819190228, Time:16.52852988243103\n",
      "Step:128, Loss:0.7560530053190513, Time:16.646514892578125\n",
      "Step:129, Loss:0.9285516061225703, Time:16.498690605163574\n",
      "Step:130, Loss:0.8938318597282027, Time:16.59505796432495\n",
      "Step:131, Loss:0.7351134098190224, Time:16.71527075767517\n",
      "Step:132, Loss:0.6330454381025991, Time:16.639245748519897\n",
      "Step:133, Loss:0.64026529194336, Time:16.629361391067505\n",
      "Step:134, Loss:0.9272944407297142, Time:16.56264305114746\n",
      "Step:135, Loss:0.7955159866289295, Time:16.775937795639038\n",
      "Step:136, Loss:0.7064305841134005, Time:16.896698713302612\n",
      "Step:137, Loss:0.6256121758507289, Time:16.69178032875061\n",
      "Step:138, Loss:0.9941530111288653, Time:16.601245164871216\n",
      "Step:139, Loss:0.7825871838522215, Time:16.437892198562622\n",
      "Step:140, Loss:0.5536081281193949, Time:16.6702823638916\n",
      "Step:141, Loss:0.8880244481027687, Time:16.526691436767578\n",
      "Step:142, Loss:0.9799470833380459, Time:16.604777336120605\n",
      "Step:143, Loss:0.8398723400104615, Time:16.529123067855835\n",
      "Step:144, Loss:0.7814768779272491, Time:16.638618230819702\n",
      "Step:145, Loss:0.8515180995493558, Time:16.62166476249695\n",
      "Step:146, Loss:0.930064579569619, Time:16.4960196018219\n",
      "Step:147, Loss:0.7761702782819829, Time:16.65771794319153\n",
      "Step:148, Loss:0.6552456322615076, Time:16.520981073379517\n",
      "Step:149, Loss:0.97077066145161, Time:16.545905113220215\n"
     ]
    }
   ],
   "source": [
    "batch_size = 100\n",
    "for i in range(20):\n",
    "    time_start = time.time()\n",
    "    model.training(batch_size = batch_size, lr = 3e-2, random_times = 100)\n",
    "    if i%n_print == 0:\n",
    "        print(\"Step:{}, Loss:{}, Time:{}\".format(i, model.history['Loss'][-1], time.time()-time_start ))\n",
    "        time_start = time.time()\n",
    "for i in range(20, 50):\n",
    "    time_start = time.time()\n",
    "    model.training(batch_size = batch_size, lr = 1e-2, random_times = 100)\n",
    "    if i%n_print == 0:\n",
    "        print(\"Step:{}, Loss:{}, Time:{}\".format(i, model.history['Loss'][-1], time.time()-time_start ))\n",
    "        time_start = time.time()\n",
    "for i in range(50, 100):\n",
    "    time_start = time.time()\n",
    "    model.training(batch_size = batch_size, lr = 1e-3, random_times = 100)\n",
    "    if i%n_print == 0:\n",
    "        print(\"Step:{}, Loss:{}, Time:{}\".format(i, model.history['Loss'][-1], time.time()-time_start ))\n",
    "        time_start = time.time()\n",
    "for i in range(100, 150):\n",
    "    time_start = time.time()\n",
    "    model.training(batch_size = batch_size, lr = 1e-4, random_times = 100)\n",
    "    if i%n_print == 0:\n",
    "        print(\"Step:{}, Loss:{}, Time:{}\".format(i, model.history['Loss'][-1], time.time()-time_start ))\n",
    "        time_start = time.time()\n",
    "# for i in range(150, 200):\n",
    "#     time_start = time.time()\n",
    "#     model.training(batch_size = batch_size, lr = 1e-5, random_times = 100)\n",
    "#     if i%n_print == 0:\n",
    "#         print(\"Step:{}, Loss:{}, Time:{}\".format(i, model.history['Loss'][-1], time.time()-time_start ))\n",
    "#         time_start = time.time()\n"
   ]
  },
  {
   "cell_type": "code",
   "execution_count": 254,
   "id": "f48c1abb-392c-4997-8722-52a7812ec9de",
   "metadata": {},
   "outputs": [],
   "source": [
    "# model.save_weights(path = './model/')\n",
    "# model.save_weights(path = './model_short/')\n",
    "model.save_weights(path = './model_walmart/')"
   ]
  },
  {
   "cell_type": "code",
   "execution_count": 108,
   "id": "35343bd1-6b2d-4cb0-9c13-b7e3e7e4ec83",
   "metadata": {},
   "outputs": [],
   "source": [
    "# np.save('./data_w.npy', w)"
   ]
  },
  {
   "cell_type": "code",
   "execution_count": 43,
   "id": "1bec5542-0cae-4574-a8ed-798e0c9f1336",
   "metadata": {},
   "outputs": [],
   "source": [
    "import matplotlib.pyplot as plt"
   ]
  },
  {
   "cell_type": "code",
   "execution_count": 255,
   "id": "e767f7ca-ba2d-4e8b-93cb-be1f1e466bd9",
   "metadata": {},
   "outputs": [
    {
     "data": {
      "image/png": "[encoded data removed]",
      "text/plain": [
       "<Figure size 800x500 with 1 Axes>"
      ]
     },
     "metadata": {},
     "output_type": "display_data"
    }
   ],
   "source": [
    "fig, ax = plt.subplots(1, 1, figsize = (8, 5))\n",
    "ax.plot([i for i in range(len(model.history['Loss']))], np.log(model.history['Loss'])/np.log(10))\n",
    "ax.set_ylabel('log scale Loss', fontsize = 14)\n",
    "ax.set_xlabel('epoch', fontsize = 14)\n",
    "ax.set_title('Random Decent', fontsize = 18)\n",
    "plt.show()"
   ]
  },
  {
   "cell_type": "code",
   "execution_count": 258,
   "id": "7b122614-1ac2-44d1-bf52-60edf8ef021d",
   "metadata": {},
   "outputs": [
    {
     "data": {
      "text/plain": [
       "array([3.68507204, 0.00801045, 1.22496016, 2.05345282, 3.39576259,\n",
       "       0.88245601, 0.71141802, 0.00551549, 2.30426071, 4.0559377 ])"
      ]
     },
     "execution_count": 258,
     "metadata": {},
     "output_type": "execute_result"
    }
   ],
   "source": [
    "model.HiddenLayers[0].order"
   ]
  },
  {
   "cell_type": "code",
   "execution_count": 127,
   "id": "2d543dae-d6c3-44c2-b97a-b39242ab5c39",
   "metadata": {},
   "outputs": [],
   "source": [
    "N = 8000\n",
    "x = np.random.uniform(30, 10, (N, 10))\n",
    "# w = np.abs(np.random.uniform(10, 1, (2,10)))\n",
    "w = np.expand_dims(w[0], axis = 0)\n",
    "w = np.tile(w, [N, 1, 1])\n",
    "# y = np.random.uniform(10, 1, (100, 2))\n",
    "y = np.matmul(w, np.expand_dims(x**2, axis = -1))[:,:,0]\n"
   ]
  },
  {
   "cell_type": "code",
   "execution_count": 210,
   "id": "769eea7b-c585-4404-abc4-9274f26b7452",
   "metadata": {},
   "outputs": [
    {
     "ename": "IndexError",
     "evalue": "index 1 is out of bounds for axis 1 with size 1",
     "output_type": "error",
     "traceback": [
      "\u001b[0;31m---------------------------------------------------------------------------\u001b[0m",
      "\u001b[0;31mIndexError\u001b[0m                                Traceback (most recent call last)",
      "Input \u001b[0;32mIn [210]\u001b[0m, in \u001b[0;36m<cell line: 6>\u001b[0;34m()\u001b[0m\n\u001b[1;32m      3\u001b[0m y_pre \u001b[38;5;241m=\u001b[39m model\u001b[38;5;241m.\u001b[39mpredict(x)\n\u001b[1;32m      4\u001b[0m \u001b[38;5;66;03m# ax.hist(y[:,0], label = 'Target', bins = 100, histtype = 'step')\u001b[39;00m\n\u001b[1;32m      5\u001b[0m \u001b[38;5;66;03m# ax.hist(y_pre[:,0], label = 'Predict', bins = 100, histtype = 'step')\u001b[39;00m\n\u001b[0;32m----> 6\u001b[0m ax\u001b[38;5;241m.\u001b[39mscatter(y[:,\u001b[38;5;241m0\u001b[39m], \u001b[43my\u001b[49m\u001b[43m[\u001b[49m\u001b[43m:\u001b[49m\u001b[43m,\u001b[49m\u001b[43m \u001b[49m\u001b[38;5;241;43m1\u001b[39;49m\u001b[43m]\u001b[49m, label \u001b[38;5;241m=\u001b[39m \u001b[38;5;124m'\u001b[39m\u001b[38;5;124mTarget\u001b[39m\u001b[38;5;124m'\u001b[39m, s \u001b[38;5;241m=\u001b[39m \u001b[38;5;241m5\u001b[39m, alpha \u001b[38;5;241m=\u001b[39m \u001b[38;5;241m0.5\u001b[39m)\n\u001b[1;32m      7\u001b[0m ax\u001b[38;5;241m.\u001b[39mscatter(y_pre[:,\u001b[38;5;241m0\u001b[39m], y_pre[:, \u001b[38;5;241m1\u001b[39m], label \u001b[38;5;241m=\u001b[39m \u001b[38;5;124m'\u001b[39m\u001b[38;5;124mPredict\u001b[39m\u001b[38;5;124m'\u001b[39m, s \u001b[38;5;241m=\u001b[39m \u001b[38;5;241m5\u001b[39m, alpha \u001b[38;5;241m=\u001b[39m \u001b[38;5;241m0.5\u001b[39m)\n\u001b[1;32m      8\u001b[0m ax\u001b[38;5;241m.\u001b[39mset_title(\u001b[38;5;124m'\u001b[39m\u001b[38;5;124mTarget Space\u001b[39m\u001b[38;5;124m'\u001b[39m)\n",
      "\u001b[0;31mIndexError\u001b[0m: index 1 is out of bounds for axis 1 with size 1"
     ]
    },
    {
     "data": {
      "image/png": "[encoded data removed]",
      "text/plain": [
       "<Figure size 800x800 with 1 Axes>"
      ]
     },
     "metadata": {},
     "output_type": "display_data"
    }
   ],
   "source": [
    "model.test_layer = -1\n",
    "fig, ax = plt.subplots(1, 1, figsize = (8, 8))\n",
    "y_pre = model.predict(x)\n",
    "# ax.hist(y[:,0], label = 'Target', bins = 100, histtype = 'step')\n",
    "# ax.hist(y_pre[:,0], label = 'Predict', bins = 100, histtype = 'step')\n",
    "ax.scatter(y[:,0], y[:, 1], label = 'Target', s = 5, alpha = 0.5)\n",
    "ax.scatter(y_pre[:,0], y_pre[:, 1], label = 'Predict', s = 5, alpha = 0.5)\n",
    "ax.set_title('Target Space')\n",
    "ax.legend()\n",
    "plt.show()"
   ]
  },
  {
   "cell_type": "code",
   "execution_count": 257,
   "id": "df2bcb79-ca34-492f-9787-c0a91ffddd5c",
   "metadata": {},
   "outputs": [
    {
     "data": {
      "image/png": "[encoded data removed]",
      "text/plain": [
       "<Figure size 800x800 with 1 Axes>"
      ]
     },
     "metadata": {},
     "output_type": "display_data"
    }
   ],
   "source": [
    "# for i in range(x.shape[-1]):\n",
    "#     fig, ax = plt.subplots(1, 1, figsize = (8, 8))\n",
    "#     ax.hist(x[:,i], histtype = 'step')\n",
    "#     plt.show()\n",
    "fig, ax = plt.subplots(1, 1, figsize = (8, 8))\n",
    "# ax.hist(y[:,0], histtype = 'step')\n",
    "# ax.hist(y_pre[:,0], histtype = 'step')\n",
    "ax.scatter(y_pre[:,0], y[:,0])\n",
    "# ax.hist(, histtype = 'step')\n",
    "plt.show()"
   ]
  },
  {
   "cell_type": "code",
   "execution_count": 116,
   "id": "231bb6a7-e923-43b0-a447-1afb688367f7",
   "metadata": {},
   "outputs": [
    {
     "data": {
      "text/plain": [
       "array([ 1.85127683, -0.10196703,  1.23531591,  2.72992032,  0.49412003,\n",
       "       -0.44878666,  1.87513563,  0.64358303,  1.60995469, -0.36891512,\n",
       "        1.11885962, -0.64495291,  1.50225286,  1.18805707, -0.60573047,\n",
       "        1.23178013,  1.12378292,  0.17687252,  0.17459726,  0.13890773])"
      ]
     },
     "execution_count": 116,
     "metadata": {},
     "output_type": "execute_result"
    }
   ],
   "source": [
    "model.HiddenLayers[0].mean"
   ]
  },
  {
   "cell_type": "code",
   "execution_count": null,
   "id": "922b2c2a-7ca2-4ac9-8aba-3a1f5e4dcfea",
   "metadata": {},
   "outputs": [],
   "source": []
  }
 ],
 "metadata": {
  "kernelspec": {
   "display_name": "Python 3 (ipykernel)",
   "language": "python",
   "name": "python3"
  },
  "language_info": {
   "codemirror_mode": {
    "name": "ipython",
    "version": 3
   },
   "file_extension": ".py",
   "mimetype": "text/x-python",
   "name": "python",
   "nbconvert_exporter": "python",
   "pygments_lexer": "ipython3",
   "version": "3.8.10"
  }
 },
 "nbformat": 4,
 "nbformat_minor": 5
}
